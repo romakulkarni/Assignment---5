{
 "cells": [
  {
   "cell_type": "code",
   "execution_count": null,
   "id": "0c103caa-d46e-494a-8ae7-ee406b886cf8",
   "metadata": {},
   "outputs": [],
   "source": [
    "1. What does an empty dictionary's code look like?\n",
    "Ans- {}\n",
    "\n",
    "\n",
    "\n",
    "8. How do you \"pretty print\" dictionary values using which module and function?\n"
   ]
  },
  {
   "cell_type": "raw",
   "id": "ed5266e1-8ce9-4f87-8c12-c6e3e7ed3a3f",
   "metadata": {},
   "source": [
    "2. What is the value of a dictionary value with the key 'foo' and the value 42?\n",
    "Ans- 42"
   ]
  },
  {
   "cell_type": "raw",
   "id": "2ebdf763-a76f-41fe-9e24-61dbc70d76ab",
   "metadata": {},
   "source": [
    "3. What is the most significant distinction between a dictionary and a list?\n",
    "Ans- Data in dictionary is unordered and data is list is ordered.\n"
   ]
  },
  {
   "cell_type": "raw",
   "id": "333746d9-a4dc-4bb3-bfdf-ccec882cba5b",
   "metadata": {},
   "source": [
    "4. What happens if you try to access spam['foo'] if spam is {'bar': 100}?\n",
    "Ans - Displays an error AS BELOW"
   ]
  },
  {
   "cell_type": "code",
   "execution_count": 5,
   "id": "75b83ba7-7a87-4dd4-9877-7f8e0c13a095",
   "metadata": {},
   "outputs": [
    {
     "ename": "KeyError",
     "evalue": "'foo'",
     "output_type": "error",
     "traceback": [
      "\u001b[0;31m---------------------------------------------------------------------------\u001b[0m",
      "\u001b[0;31mKeyError\u001b[0m                                  Traceback (most recent call last)",
      "Cell \u001b[0;32mIn [5], line 2\u001b[0m\n\u001b[1;32m      1\u001b[0m spam \u001b[38;5;241m=\u001b[39m {\u001b[38;5;124m'\u001b[39m\u001b[38;5;124mbar\u001b[39m\u001b[38;5;124m'\u001b[39m : \u001b[38;5;241m100\u001b[39m}\n\u001b[0;32m----> 2\u001b[0m \u001b[38;5;28mprint\u001b[39m(\u001b[43mspam\u001b[49m\u001b[43m[\u001b[49m\u001b[38;5;124;43m'\u001b[39;49m\u001b[38;5;124;43mfoo\u001b[39;49m\u001b[38;5;124;43m'\u001b[39;49m\u001b[43m]\u001b[49m)\n",
      "\u001b[0;31mKeyError\u001b[0m: 'foo'"
     ]
    }
   ],
   "source": [
    "spam = {'bar' : 100}\n",
    "print(spam['foo'])"
   ]
  },
  {
   "cell_type": "raw",
   "id": "da8cb70a-affe-4162-944e-235013c3be0c",
   "metadata": {},
   "source": [
    "5. If a dictionary is stored in spam, what is the difference between the expressions 'cat' in spam and 'cat' in spam.keys()?\n",
    "Ans - there is no difference both mean the same.\n"
   ]
  },
  {
   "cell_type": "raw",
   "id": "5d081d35-a98d-4212-b2e7-80bc38c341f6",
   "metadata": {},
   "source": [
    "6. If a dictionary is stored in spam, what is the difference between the expressions 'cat' in spam and 'cat' in spam.values()?\n",
    "Ans- Yes, there is a difference cat in spam is the key and cat in spam.values checks the value of cat key given in dictionary\n"
   ]
  },
  {
   "cell_type": "raw",
   "id": "2bfc25f8-a5bb-453d-b33f-5a986f1f2976",
   "metadata": {},
   "source": [
    "7. What is a shortcut for the following code?\n",
    "if 'color' not in spam:\n",
    "spam['color'] = 'black'\n",
    "Ans- spam.setdefault('color','black')"
   ]
  },
  {
   "cell_type": "raw",
   "id": "04453e0f-fcfa-4389-9be2-da0882a758ec",
   "metadata": {},
   "source": [
    "8. How do you \"pretty print\" dictionary values using which module and function?\n",
    "Ans- use the pprint module or pprint() "
   ]
  }
 ],
 "metadata": {
  "kernelspec": {
   "display_name": "Python 3 (ipykernel)",
   "language": "python",
   "name": "python3"
  },
  "language_info": {
   "codemirror_mode": {
    "name": "ipython",
    "version": 3
   },
   "file_extension": ".py",
   "mimetype": "text/x-python",
   "name": "python",
   "nbconvert_exporter": "python",
   "pygments_lexer": "ipython3",
   "version": "3.10.6"
  }
 },
 "nbformat": 4,
 "nbformat_minor": 5
}
